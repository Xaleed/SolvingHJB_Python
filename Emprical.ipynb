{
 "cells": [
  {
   "cell_type": "code",
   "execution_count": 12,
   "metadata": {},
   "outputs": [],
   "source": [
    "using Distributions, FileIO, CSV, DataFrames, Revise, Plots, Query, StatsPlots"
   ]
  },
  {
   "cell_type": "code",
   "execution_count": 13,
   "metadata": {},
   "outputs": [],
   "source": [
    "\n",
    "\n",
    "DATA = CSV.read(\"/home/khaled/Documents/CSV/MixedData/DataCleanF.csv\");"
   ]
  },
  {
   "cell_type": "markdown",
   "metadata": {},
   "source": [
    "# داده های جدیتر \n",
    "##  اگر از این داده استفاده می‌کنید سلول زیر را فعال و سلول بعدی را اجرا کنید در غیر اینصورت از این دو سلول عبور کنید "
   ]
  },
  {
   "cell_type": "code",
   "execution_count": 14,
   "metadata": {},
   "outputs": [],
   "source": [
    "#DATA=CSV.read(\"/home/khaled/Documents/CSV/Dr.Goudarzi/DATAMixedOldDataAndNewData.csv\");"
   ]
  },
  {
   "cell_type": "code",
   "execution_count": 15,
   "metadata": {},
   "outputs": [],
   "source": [
    "function TypeToNumber(v)\n",
    "    uv = unique(v)\n",
    "    n = length(v)\n",
    "    res = zeros(Int, n)\n",
    "    for i in 1:n\n",
    "        for j in 1:length(uv)\n",
    "            if v[i] == uv[j]\n",
    "                res[i] = j\n",
    "                break\n",
    "            end\n",
    "        end\n",
    "    end\n",
    "    return res\n",
    "end;\n",
    "DATA.CovNumber = TypeToNumber(DATA.CoverageType);"
   ]
  },
  {
   "cell_type": "code",
   "execution_count": 16,
   "metadata": {},
   "outputs": [],
   "source": [
    "unique(DATA.Person);"
   ]
  },
  {
   "cell_type": "code",
   "execution_count": 6,
   "metadata": {},
   "outputs": [
    {
     "data": {
      "text/plain": [
       "ClaimTimes (generic function with 1 method)"
      ]
     },
     "execution_count": 6,
     "metadata": {},
     "output_type": "execute_result"
    }
   ],
   "source": [
    "        Person = convert(Array, DATA.Person)\n",
    "        Times = convert(Array, DATA.Length)\n",
    "        Cov = convert(Array, DATA.CovNumber)\n",
    "        Paid = convert(Array, DATA.LossPaid)\n",
    "        Unique_Coverage = unique(DATA.CovNumber)\n",
    "        typeof(Unique_Coverage)\n",
    "        function ClaimTimes(Person, Times, Cov, CovNumber)\n",
    "            CIndex = (Cov .== CovNumber)\n",
    "            T1 = Times[CIndex]\n",
    "            P1 = Person[CIndex]\n",
    "            L = []\n",
    "            for i in unique(P1)\n",
    "                #AA = D1[D1.Person .== i, 2]\n",
    "                AA = T1[P1.==i]\n",
    "                if length(AA) > 0\n",
    "                    append!(L, unique(AA))\n",
    "                end\n",
    "            end\n",
    "            return L\n",
    "        end\n"
   ]
  },
  {
   "cell_type": "code",
   "execution_count": 17,
   "metadata": {},
   "outputs": [
    {
     "data": {
      "text/plain": [
       "ClaimSizes (generic function with 1 method)"
      ]
     },
     "execution_count": 17,
     "metadata": {},
     "output_type": "execute_result"
    }
   ],
   "source": [
    "\n",
    "        function ClaimSizes(Person, Times, Paied, Cov, CovNumber)\n",
    "            CSIndex = (Cov .== CovNumber)\n",
    "            T1 = Times[CSIndex]\n",
    "            P1 = Person[CSIndex]\n",
    "            Paid1 = Paid[CSIndex]\n",
    "            Cost1 = [] #first claim sevirty#ok\n",
    "            Cost2 = [] #second claim sevirty#ok\n",
    "            Cost3 = [] #three or more claim severity\n",
    "            for i in unique(P1)\n",
    "                AA = T1[P1.==i]\n",
    "                uAA = unique(AA)\n",
    "                if length(uAA) == 1\n",
    "                    minAA = uAA\n",
    "                    push!(Cost1, Paid1[(P1.==i).&(T1.==minAA[1])])\n",
    "                end\n",
    "                if length(uAA) == 2\n",
    "                    sAA = sort(uAA)\n",
    "                    push!(Cost1, Paid1[(P1.==i).&(T1.==sAA[1])])\n",
    "                    push!(Cost2, Paid1[(P1.==i).&(T1.==sAA[2])])\n",
    "                end\n",
    "                if length(uAA) > 2\n",
    "                    sAA = sort(uAA)\n",
    "                    push!(Cost1, Paid1[(P1.==i).&(T1.==sAA[1])])\n",
    "                    push!(Cost2, Paid1[(P1.==i).&(T1.==sAA[2])])\n",
    "                    for l in sAA[3:end]\n",
    "                        push!(Cost3, Paid1[(P1.==i).&(T1.==l)])\n",
    "                    end\n",
    "                end\n",
    "            end\n",
    "            return Cost1, Cost2, Cost3\n",
    "        end"
   ]
  },
  {
   "cell_type": "code",
   "execution_count": 18,
   "metadata": {},
   "outputs": [
    {
     "data": {
      "text/plain": [
       "Edit (generic function with 1 method)"
      ]
     },
     "execution_count": 18,
     "metadata": {},
     "output_type": "execute_result"
    }
   ],
   "source": [
    "function Edit(A, B)\n",
    "    if length(A) >= 2\n",
    "        D = [sum(A[i]) for i in 1:length(A)]\n",
    "    else\n",
    "        D = [sum(B[i]) for i in 1:length(B)]\n",
    "    end\n",
    "    return D\n",
    "end"
   ]
  },
  {
   "cell_type": "code",
   "execution_count": 19,
   "metadata": {},
   "outputs": [
    {
     "data": {
      "text/plain": [
       "Edit1 (generic function with 1 method)"
      ]
     },
     "execution_count": 19,
     "metadata": {},
     "output_type": "execute_result"
    }
   ],
   "source": [
    "function Edit1(A, B, C, F)\n",
    "    if length(A) >= 2\n",
    "        D = C\n",
    "    else\n",
    "        D = F\n",
    "    end\n",
    "    return D\n",
    "end"
   ]
  },
  {
   "cell_type": "code",
   "execution_count": 20,
   "metadata": {},
   "outputs": [
    {
     "data": {
      "text/plain": [
       "3-element Array{String,1}:\n",
       " \" رده اول\"\n",
       " \"  رده دوم\"\n",
       " \"  رده سوم \""
      ]
     },
     "execution_count": 20,
     "metadata": {},
     "output_type": "execute_result"
    }
   ],
   "source": [
    "AgeBound = [[0, 45], [40, 60], [60, 90]]\n",
    "AgeBoundName = [\" رده اول\", \"  رده دوم\", \"  رده سوم \"]"
   ]
  },
  {
   "cell_type": "code",
   "execution_count": 24,
   "metadata": {},
   "outputs": [],
   "source": [
    "for j in 1:3\n",
    "    DATA2 = DATA[AgeBound[j][1].<DATA.Age.<AgeBound[j][2], :]\n",
    "    Person = convert(Array, DATA2.Person)\n",
    "    Times = convert(Array, DATA2.Length)\n",
    "    Cov = convert(Array, DATA2.CovNumber)\n",
    "    Paid = convert(Array, DATA2.LossPaid)\n",
    "    Unique_Coverage = unique(DATA.CovNumber)\n",
    "    NAME1 = AgeBoundName[j]\n",
    "    for i in 4:17\n",
    "        A = ClaimSizes(Person, Times, Paid, Cov, unique(DATA2.CovNumber)[i])\n",
    "        Plot = density(log10.(abs.([sum(A[1][i]) for i in 1:length(A[1])])),labels = \"First arrival\", legend = :topright)\n",
    "\n",
    "        density!(log10.(abs.(Edit(A[2], A[1]))),labels = \"Second arrival\", legend = :topright)\n",
    "\n",
    "        density!(log10.(abs.(Edit(A[3], A[1]))),labels = \"Third arrival\", legend = :topright)\n",
    "        CovE=unique(DATA2.CoverageType)\n",
    "        Path = \"/home/khaled/Documents/CSV/Dr.Goudarzi/\"\n",
    "        NAME = CovE[i]\n",
    "        \n",
    "        savefig(Plot, Path * \"Plots/\" * NAME * \"-\" * NAME1 * \".pdf\")\n",
    "    end\n",
    "end\n",
    "     \n"
   ]
  },
  {
   "cell_type": "code",
   "execution_count": null,
   "metadata": {},
   "outputs": [],
   "source": []
  }
 ],
 "metadata": {
  "kernelspec": {
   "display_name": "Julia 1.5.3",
   "language": "julia",
   "name": "julia-1.5"
  },
  "language_info": {
   "file_extension": ".jl",
   "mimetype": "application/julia",
   "name": "julia",
   "version": "1.5.3"
  }
 },
 "nbformat": 4,
 "nbformat_minor": 4
}
