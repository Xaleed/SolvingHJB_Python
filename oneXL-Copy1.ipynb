{
 "cells": [
  {
   "cell_type": "code",
   "execution_count": 1,
   "metadata": {},
   "outputs": [],
   "source": [
    "import numpy as np\n",
    "import numba\n",
    "import matplotlib.pyplot as plt\n",
    "import os\n",
    "import time\n",
    "import math\n",
    "\n",
    "from numpy import exp, sum\n",
    "from scipy.optimize import differential_evolution\n",
    "\n",
    "plt.rc('text', usetex=True)\n",
    "plt.rc('font', family='serif')"
   ]
  },
  {
   "cell_type": "code",
   "execution_count": 2,
   "metadata": {},
   "outputs": [],
   "source": [
    "if not os.path.exists('./plots/ExcessOfLoss'): os.makedirs('./plots/ExcessOfLoss')"
   ]
  },
  {
   "cell_type": "code",
   "execution_count": 102,
   "metadata": {},
   "outputs": [],
   "source": [
    "end = 20\n",
    "DELTA = 0.02\n",
    "n = int(end/DELTA)\n",
    "\n",
    "beta1 = 8.0\n",
    "beta2 = 4.0\n",
    "beta3 = 5.0\n",
    "\n",
    "lambda1 = 0.5\n",
    "lambda2 = 3.0\n",
    "lambda3 = 2.0\n",
    "beta = beta1 + beta2 + beta3\n",
    "\n",
    "p11 = 1.0\n",
    "p12 = 0.06\n",
    "p13 = 0.05\n",
    "\n",
    "p21 = 0.03\n",
    "p22 = 1.0\n",
    "p23 = 0.01\n",
    "\n",
    "p31 = 0.007\n",
    "p32 = 0.005\n",
    "p33 = 1.0\n",
    "\n",
    "eta1 = 0.35\n",
    "eta = 0.3\n",
    "c=0.3\n",
    "\n",
    "d = np.array((n+1)*[0.0])\n",
    "dhat = np.array(n*[0.0])\n",
    "dhat0 = np.array(n*[0.0])\n",
    "d1 = np.array((n+1)*[0.0])\n",
    "dhat1 = np.array(n*[0.0])\n",
    "d[0] = 1.0\n",
    "d1[0] = 1.0\n",
    "B1 = np.array(n*[0.0])\n",
    "B2 = np.array(n*[0.0])\n",
    "B3 = np.array(n*[0.0]) "
   ]
  },
  {
   "cell_type": "code",
   "execution_count": 103,
   "metadata": {},
   "outputs": [],
   "source": [
    "NAME = '-EOL-'+str(lambda1)+'-'+str(lambda2)+'-'+str(lambda3)+'-'+str(beta1)+ '-' + str(beta2) +'-'+ str(beta3)+'-'+str(p11)+'-' +str(p12)+'-'+str(p13)+'-'+str(p21)+'-'+str(p22)+'-'+str(p23)+ '-'+str(p31)+ '-'+str(p32)+ '-'+str(p33)+ '-'+str(eta1)+ '-'+str(eta) + '.pdf'"
   ]
  },
  {
   "cell_type": "code",
   "execution_count": 104,
   "metadata": {},
   "outputs": [],
   "source": [
    "def H(x): return (x>=0)*1\n",
    "H = numba.autojit(H, nopython=True)"
   ]
  },
  {
   "cell_type": "code",
   "execution_count": 105,
   "metadata": {},
   "outputs": [],
   "source": [
    "def FR1(a1,lambda1,x):\n",
    "    return exp(-lambda1*x)*(H(x-a1)-1)+1\n",
    "\n",
    "def FR12(a1,a2,lambda1,lambda2,x):\n",
    "    return (-lambda2*(H(x-a1-a2)-H(x-a1))*exp(lambda2*(-x+a1)-lambda1*a1)+lambda1*(H(x-a1-a2)-H(x-a2))*exp(lambda1*(-x+a2)-lambda2*a2)+H(x-a2)*exp(-lambda2*x)*lambda1-H(x-a1)*exp(-lambda1*x)*lambda2 - exp(-lambda2*x)*lambda1 + exp(-lambda1*x)* lambda2 + lambda1-lambda2)/(lambda1-lambda2)\n",
    "\n",
    "def FR123(a1,a2,a3,x):\n",
    "    return (-lambda3**2*(lambda1-lambda2)*(H(x-a1-a2)-H(x-a1-a2-a3))*exp(lambda3*(-x+a1+a2)-lambda1*a1-lambda2*a2) + lambda2**2*(lambda1-lambda3)*(H(x-a1-a3)-H(x-a1-a2-a3))*exp(lambda2*(-x+a1+a3)-lambda1*a1-lambda3*a3) - lambda1**2*(lambda2-lambda3)*(H(x-a2-a3)-H(x-a1-a2-a3))*exp(lambda1*(-x+a2+a3)-lambda2*a2-lambda3*a3) + lambda2*lambda3*(lambda1-lambda3)*(H(x-a1-a2)-H(x-a1))*exp(lambda2*(-x+a1) - lambda1*a1)-lambda2*lambda3*(lambda1-lambda2)*(H(x-a1-a3)-H(x-a1))*exp((-x+a1)*lambda3-lambda1*a1)-lambda1*lambda3*(lambda2-lambda3)*(H(x-a1-a2)-H(x-a2))*exp(lambda1*(-x+a2)-lambda2*a2) - lambda1*lambda3*(lambda1-lambda2)*(H(x-a2-a3)-H(x-a2))*exp((-x+a2)*lambda3-lambda2*a2)+lambda1*lambda2*(lambda2-lambda3)*(H(x-a3)-H(x-a1-a3))*exp((-x+a3)*lambda1-lambda3*a3)-lambda1*lambda2*(lambda1-lambda3)*(H(x-a3)-H(x-a2-a3))*exp((-x+a3)*lambda2-lambda3*a3)  +exp(-lambda1*x)*lambda2*lambda3*(lambda2-lambda3)*H(x-a1) - exp(-lambda2*x)* lambda1*lambda3*(lambda1-lambda3)*H(x-a2) + exp(-lambda3*x)*lambda1*lambda2*(lambda1-lambda2)*H(x-a3) - exp(-lambda1*x)* lambda2*lambda3*(lambda2-lambda3)+exp(-lambda2*x)*lambda1*lambda3*(lambda1-lambda3) - (exp(-lambda3*x)*lambda1*lambda2-(lambda1-lambda3)*(lambda2-lambda3))*(lambda1-lambda2))/((lambda1-lambda2)*(lambda1-lambda3)*(lambda2-lambda3))\n",
    "\n",
    "\n",
    "def ER123(a1,a2,a3):\n",
    "    return 1/lambda3+1/lambda2+1/lambda1-1/(exp(lambda3*a3)*lambda3)-1/(exp(lambda2*a2)*lambda2)-1/(exp(lambda1*a1)*lambda1)"
   ]
  },
  {
   "cell_type": "code",
   "execution_count": 106,
   "metadata": {},
   "outputs": [],
   "source": [
    "FR1   = numba.autojit(FR1  , nopython=True)\n",
    "FR12  = numba.autojit(FR12 , nopython=True)\n",
    "FR123 = numba.autojit(FR123, nopython=True)\n",
    "ER123 = numba.autojit(ER123, nopython=True)"
   ]
  },
  {
   "cell_type": "code",
   "execution_count": 107,
   "metadata": {},
   "outputs": [],
   "source": [
    "def GR(a1, a2, a3, x):\n",
    "    return H(x)*((beta1*(1-p12)*(1-p13)*FR1(a1,lambda1, x) + beta2*(1-p21)*(1-p23)*FR1(a2,lambda2, x) + beta3*(1-p31)*(1-p32)*FR1(a3,lambda3, x) + (beta1*p12*(1-p13) + beta2*p21*(1-p23))*FR12(a1, a2,lambda1,lambda2, x) + (beta1*p13*(1-p12) + beta3*p31*(1-p32))*FR12(a1, a3,lambda1,lambda3, x) + (beta2*p23*(1-p21)+beta3*p32*(1-p31))*FR12(a2, a3,lambda2,lambda3, x) + (beta1*p11*p12*p13 + beta2*p21*p22*p23 + beta3*p31*p32*p33)*FR123(a1, a2, a3, x))/beta)\n",
    "\n",
    "\n",
    "def EG(a1, a2, a3):\n",
    "    return (beta1*(1-p12)*(1-p13)*ER123(a1,0,0) + beta2*(1-p21)*(1-p23)*ER123(0,a2,0) + beta3*(1-p31)*(1-p32)*ER123(0,0,a3) + (beta1*p12*(1-p13) + beta2*p21*(1-p23))*ER123(a1, a2,0) + (beta1*p13*(1-p12) + beta3*p31*(1-p32))*ER123(a1,0, a3) + (beta2*p23*(1-p21)+beta3*p32*(1-p31))*ER123(0,a2, a3) + (beta1*p11*p12*p13 + beta2*p21*p22*p23 + beta3*p31*p32*p33)*ER123(a1, a2, a3))/beta"
   ]
  },
  {
   "cell_type": "code",
   "execution_count": 108,
   "metadata": {},
   "outputs": [],
   "source": [
    "GR = numba.autojit(GR, nopython=True)\n",
    "EG = numba.autojit(EG, nopython=True)"
   ]
  },
  {
   "cell_type": "code",
   "execution_count": 109,
   "metadata": {},
   "outputs": [],
   "source": [
    "@numba.autojit(nopython = True) \n",
    "def DGR(a1, a2, a3, j):\n",
    "    return GR(a1,a2,a3,j*DELTA)-GR(a1,a2,a3,(j-1)*DELTA)"
   ]
  },
  {
   "cell_type": "code",
   "execution_count": 110,
   "metadata": {},
   "outputs": [],
   "source": [
    "E1 = EG(np.inf,np.inf,np.inf)\n",
    "@numba.autojit(nopython = True) \n",
    "def pR(a1,a2,a3):\n",
    "    return (1+eta)*beta*E1 - ((1+eta1)*beta*(E1-EG(a1,a2,a3)))"
   ]
  },
  {
   "cell_type": "code",
   "execution_count": 111,
   "metadata": {},
   "outputs": [],
   "source": [
    "@numba.autojit(nopython = True) \n",
    "def DGR1(a, j):\n",
    "    return DGR(a, a, a, j)"
   ]
  },
  {
   "cell_type": "code",
   "execution_count": 112,
   "metadata": {},
   "outputs": [],
   "source": [
    "#E1 = EG(np.inf,np.inf,np.inf)\n",
    "@numba.autojit(nopython = True) \n",
    "def pR1(a):\n",
    "    return pR(a, a, a)"
   ]
  },
  {
   "cell_type": "code",
   "execution_count": 113,
   "metadata": {},
   "outputs": [],
   "source": [
    "INF = 120.0\n",
    "@numba.autojit(nopython = True) \n",
    "def Hinf(a,d,i):\n",
    "    j1 = np.arange(i)\n",
    "    j2 = np.arange(1, i+1)\n",
    "    if a[0] < 0.0 : a[0]=0.0\n",
    "  #  if a[1] < 0.0 : a[1]=0.0\n",
    "   # if a[2] < 0.0 : a[2]=0.0\n",
    "    a[0] = math.floor(a[0]/DELTA)*DELTA\n",
    "    #a[1] = math.floor(a[1]/DELTA)*DELTA\n",
    "    #a[2] = math.floor(a[2]/DELTA)*DELTA\n",
    "    pRR = pR1(a[0])\n",
    "    if pRR>0: return ((c+beta)*d[i]-0.5*beta*sum((d[i-j1]+d[i-j2])*DGR1(a[0], j2)))/pRR\n",
    "    else : return  1000.0 \n",
    "\n",
    "@numba.autojit(nopython = True) \n",
    "def Hinf1(a,d,i): return Hinf([INF,d,i])\n",
    "@numba.autojit(nopython = True) \n",
    "def Hinf2(a,d,i): return Hinf([a[0],INF,a[1]],d,i)\n",
    "@numba.autojit(nopython = True) \n",
    "def Hinf3(a,d,i): return Hinf([a[0],a[1],INF],d,i)\n",
    "\n",
    "@numba.autojit(nopython = True) \n",
    "def Hinf12(a,d,i): return Hinf([INF,INF,a[0]],d,i)\n",
    "@numba.autojit(nopython = True) \n",
    "def Hinf13(a,d,i): return Hinf([INF,a[0],INF],d,i)\n",
    "@numba.autojit(nopython = True) \n",
    "def Hinf23(a,d,i): return Hinf([a[0],INF,INF],d,i)"
   ]
  },
  {
   "cell_type": "code",
   "execution_count": 114,
   "metadata": {},
   "outputs": [
    {
     "name": "stdout",
     "output_type": "stream",
     "text": [
      "5%, d(1.0) = 1.5045770300243861, time = 18.1 seconds\n",
      "10%, d(2.0) = 1.8894216629234948, time = 20.1 seconds\n",
      "15%, d(3.0) = 2.212931802767048, time = 23.5 seconds\n",
      "20%, d(4.0) = 2.4980671283610945, time = 27.3 seconds\n",
      "25%, d(5.0) = 2.758789183576318, time = 30.3 seconds\n",
      "30%, d(6.0) = 3.003116480348641, time = 33.7 seconds\n",
      "35%, d(7.0) = 3.2363230671194017, time = 37.3 seconds\n",
      "40%, d(8.0) = 3.462061130412173, time = 41.0 seconds\n",
      "45%, d(9.0) = 3.683021099952985, time = 44.8 seconds\n",
      "50%, d(10.0) = 3.901301077737808, time = 48.8 seconds\n",
      "55%, d(11.0) = 4.1186121548949775, time = 52.9 seconds\n",
      "60%, d(12.0) = 4.336401608057243, time = 57.3 seconds\n",
      "65%, d(13.0) = 4.555927355199744, time = 62.1 seconds\n",
      "70%, d(14.0) = 4.778305567350853, time = 66.6 seconds\n",
      "75%, d(15.0) = 5.004541472131548, time = 70.9 seconds\n",
      "80%, d(16.0) = 5.235551693411232, time = 75.3 seconds\n",
      "85%, d(17.0) = 5.472180395461911, time = 79.7 seconds\n",
      "90%, d(18.0) = 5.715212810528072, time = 84.0 seconds\n",
      "95%, d(19.0) = 5.965386240362462, time = 88.0 seconds\n",
      "100%, d(20.0) = 6.223399351997749, time = 92.7 seconds\n"
     ]
    }
   ],
   "source": [
    "L1=L2=L3=0.0001\n",
    "U1=U2=U3=200.0\n",
    "\n",
    "TIME=time.time()\n",
    "for i in range(n):\n",
    "    MIN   = differential_evolution(Hinf ,args=(d,i),  bounds= [(0.0001, 20)],tol=0.0001) \n",
    "   # MIN1  = differential_evolution(Hinf,args=(d,i),  bounds= [(20,30 )], tol=0.0001) \n",
    "   # MIN2  = differential_evolution(Hinf,args=(d,i),  bounds= [(60, 70)], tol=0.0001) \n",
    "   # MIN3  = differential_evolution(Hinf,args=(d,i),  bounds= [(120, 130)], tol=0.0001) \n",
    "   # MIN12 = differential_evolution(Hinf,args=(d,i), bounds= [(150, 170)],tol=0.0001) \n",
    "   # MIN13 = differential_evolution(Hinf13,args=(d,i), bounds= [(L2, U2)],tol=0.0001) \n",
    "   # MIN23 = differential_evolution(Hinf23,args=(d,i), bounds= [(L1, U1)],tol=0.0001) \n",
    "    \n",
    "   # vals = np.array([MIN.fun,Hinf([INF],d,i)])\n",
    "    #Ind = vals.argmin()\n",
    "   # if Ind==0:\n",
    "    B1[i] = MIN.x[0]\n",
    "    #    B2[i] = MIN.x[1]\n",
    "     #   B3[i] = MIN.x[2]\n",
    "    #if Ind==1:\n",
    "        #B1[i] = INF\n",
    "        #B2[i] = MIN1.x[0]\n",
    "       # B3[i] = MIN1.x[1]\n",
    "    #if Ind==2:\n",
    "     #   B1[i] = MIN2.x[0]\n",
    "      #  B2[i] = INF\n",
    "       # B3[i] = MIN2.x[1]\n",
    "   # if Ind==3:\n",
    "    #    B1[i] = MIN3.x[0]\n",
    "      #  B2[i] = MIN3.x[1]\n",
    "       # B3[i] = INF\n",
    "    #if Ind==4:\n",
    "     #   B1[i] = INF\n",
    "      #  B2[i] = INF\n",
    "     #   B1[i] = MIN12.x[0]\n",
    "    #if Ind==5:\n",
    "     #   B1[i] = INF\n",
    "      #  B2[i] = MIN13.x[0]\n",
    "       # B3[i] = INF\n",
    "   # if Ind==6:\n",
    "    #    B1[i] = MIN23.x[0]\n",
    "     #   B2[i] = INF\n",
    "      #  B3[i] = INF\n",
    "    #if Ind==7:\n",
    "     #   B1[i] = INF\n",
    "       # B2[i] = INF\n",
    "        #B3[i] = INF\n",
    "        \n",
    "    #dhat[i] = MIN.fun\n",
    "    #d[i+1]=d[i]+DELTA*dhat[i]\n",
    "    dhat[i] = MIN.fun\n",
    "    d[i+1]=d[i]+DELTA*dhat[i]\n",
    "   # if (B1[i] > 0.00001) & (B1[i]< INF) : \n",
    "    #    L1 = np.maximum(0,B1[i] - 0.1)\n",
    "     #   U1 = L1 + 0.4\n",
    "    #else :\n",
    "     #   L1 = 80\n",
    "      #  U1 = 90\n",
    "  #  if (B2[i] > 0.00001) & (B2[i]< INF) : \n",
    "  #      L2 = np.maximum(0,B2[i] - 0.1)\n",
    "    #    U2 = L2+0.2\n",
    "   # if (B3[i] > 0.00001) & (B3[i]< INF) : \n",
    "    #    L3 = np.maximum(0,B3[i] - 0.1)\n",
    "     #   U3 = L3+0.2\n",
    "\n",
    "    if (i+1)%(n//20)==0: \n",
    "        print(str(round(100*(i+1)/n))+'%, ' + 'd('+str(round((i+1)*DELTA,2))+') = '+\n",
    "                           str(d[i+1]) + ', time = '+str(round(time.time()-TIME,1))+' seconds')"
   ]
  },
  {
   "cell_type": "code",
   "execution_count": 118,
   "metadata": {},
   "outputs": [],
   "source": [
    "delta = d\n",
    "deltahat = dhat"
   ]
  },
  {
   "cell_type": "code",
   "execution_count": 119,
   "metadata": {},
   "outputs": [
    {
     "data": {
      "image/png": "[encoded data removed]",
      "text/plain": [
       "<Figure size 864x432 with 1 Axes>"
      ]
     },
     "metadata": {
      "needs_background": "light"
     },
     "output_type": "display_data"
    }
   ],
   "source": [
    "x = np.linspace(0,i*DELTA,i)\n",
    "plt.figure(figsize=(12,6))\n",
    "plt.plot(x,deltahat[0:i])\n",
    "plt.xlabel('$x$', fontsize=20)\n",
    "plt.ylabel(r'$\\hat{\\delta}(x)$', fontsize=20)\n",
    "plt.axhline(y=0, color='k');plt.axvline(x=0, color='k')\n",
    "plt.grid( color='0.7', linestyle='--')\n",
    "plt.savefig(\"./plots/ExcessOfLoss/DELTAhat\" +NAME, bbox_inches='tight')\n",
    "plt.show()"
   ]
  },
  {
   "cell_type": "code",
   "execution_count": 120,
   "metadata": {},
   "outputs": [
    {
     "data": {
      "image/png": "[encoded data removed]",
      "text/plain": [
       "<Figure size 864x432 with 1 Axes>"
      ]
     },
     "metadata": {
      "needs_background": "light"
     },
     "output_type": "display_data"
    }
   ],
   "source": [
    "x = np.linspace(0,end,n)\n",
    "plt.figure(figsize=(12,6))\n",
    "#plt.plot(x, B2,label='$b_2(x)$',alpha=0.7, linestyle='dashdot')\n",
    "plt.plot(x, B1,label='$b_1(x)$',alpha=0.7)\n",
    "#plt.plot(x, B3,label='$b_3(x)$',alpha=0.7)\n",
    "#plt.xlim(14.5,15)\n",
    "#plt.ylim(199.1,200.1)\n",
    "plt.axhline(y=0, color='k');plt.axvline(x=0, color='k')\n",
    "plt.grid( color='0.7', linestyle='--')\n",
    "plt.show()"
   ]
  },
  {
   "cell_type": "code",
   "execution_count": 121,
   "metadata": {},
   "outputs": [],
   "source": [
    "IndMin = np.argmin(deltahat)"
   ]
  },
  {
   "cell_type": "code",
   "execution_count": 122,
   "metadata": {},
   "outputs": [
    {
     "data": {
      "text/plain": [
       "0.2172371694891965"
      ]
     },
     "execution_count": 122,
     "metadata": {},
     "output_type": "execute_result"
    }
   ],
   "source": [
    "deltahat[IndMin]"
   ]
  },
  {
   "cell_type": "code",
   "execution_count": 123,
   "metadata": {},
   "outputs": [
    {
     "data": {
      "text/plain": [
       "10.64"
      ]
     },
     "execution_count": 123,
     "metadata": {},
     "output_type": "execute_result"
    }
   ],
   "source": [
    "IndMin*DELTA"
   ]
  },
  {
   "cell_type": "code",
   "execution_count": 124,
   "metadata": {},
   "outputs": [],
   "source": [
    "x = np.linspace(0,end,n+1)\n",
    "v = delta\n",
    "vhat = deltahat\n",
    "V = v/vhat[IndMin]\n",
    "Vp = vhat/vhat[IndMin]\n",
    "\n",
    "V[IndMin+1:] = V[IndMin] + np.arange(IndMin+1, n+1)*DELTA - (IndMin)*DELTA\n",
    "Vp[IndMin+1:] = 1.0"
   ]
  },
  {
   "cell_type": "code",
   "execution_count": 125,
   "metadata": {},
   "outputs": [],
   "source": [
    "VoneXL=V-x"
   ]
  },
  {
   "cell_type": "code",
   "execution_count": 126,
   "metadata": {},
   "outputs": [
    {
     "data": {
      "image/png": "[encoded data removed]",
      "text/plain": [
       "<Figure size 864x432 with 1 Axes>"
      ]
     },
     "metadata": {
      "needs_background": "light"
     },
     "output_type": "display_data"
    }
   ],
   "source": [
    "x = np.linspace(0,end,n+1)\n",
    "plt.figure(figsize=(12,6))\n",
    "plt.plot(x, VoneXL)\n",
    "plt.xlabel('$x$', fontsize=20)\n",
    "plt.ylabel(r'$V(x)$', fontsize=20)\n",
    "#plt.xlim(0,17.5)\n",
    "plt.axhline(y=0, color='k');plt.axvline(x=0, color='k')\n",
    "plt.grid( color='0.7', linestyle='--')\n",
    "plt.show()"
   ]
  },
  {
   "cell_type": "code",
   "execution_count": 127,
   "metadata": {},
   "outputs": [],
   "source": [
    "import pandas as pd\n",
    "IND = np.arange(0,n)\n",
    "x = np.linspace(0,end,n+1)\n",
    "DF = pd.DataFrame([x[IND],VoneXL[IND],B1[IND],B2[IND],B3[IND]],\n",
    "                  index=['x','V_XL','XLXLXL_Line1','XLXLXL_Line2','XLXLXL_Line3']).T\n",
    "DF.to_csv('oneXL_20_0.02_copy2.csv')"
   ]
  },
  {
   "cell_type": "code",
   "execution_count": null,
   "metadata": {},
   "outputs": [],
   "source": []
  },
  {
   "cell_type": "code",
   "execution_count": null,
   "metadata": {},
   "outputs": [],
   "source": []
  },
  {
   "cell_type": "code",
   "execution_count": null,
   "metadata": {},
   "outputs": [],
   "source": []
  }
 ],
 "metadata": {
  "kernelspec": {
   "display_name": "Python 3",
   "language": "python",
   "name": "python3"
  },
  "language_info": {
   "codemirror_mode": {
    "name": "ipython",
    "version": 3
   },
   "file_extension": ".py",
   "mimetype": "text/x-python",
   "name": "python",
   "nbconvert_exporter": "python",
   "pygments_lexer": "ipython3",
   "version": "3.7.3"
  }
 },
 "nbformat": 4,
 "nbformat_minor": 2
}
